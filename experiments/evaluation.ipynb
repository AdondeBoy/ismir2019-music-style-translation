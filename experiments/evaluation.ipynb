{
 "cells": [
  {
   "cell_type": "code",
   "execution_count": 1,
   "metadata": {},
   "outputs": [],
   "source": [
    "import pickle\n",
    "\n",
    "from IPython.display import display\n",
    "import matplotlib.pyplot as plt\n",
    "import pandas as pd"
   ]
  },
  {
   "cell_type": "code",
   "execution_count": 2,
   "metadata": {},
   "outputs": [],
   "source": [
    "def load_results(path):\n",
    "    with open(path, 'rb') as f:\n",
    "        style_results, song_style_results, chroma_results, _ = pickle.load(f)\n",
    "\n",
    "    df = pd.concat([chroma_results.groupby('name').mean(), style_results.groupby('name').mean(), song_style_results.groupby('name').mean()], axis=1, sort=True)\n",
    "    df_err = song_style_results.groupby('name').std()\n",
    "    df = df.rename(columns={'chroma_sim': 'content', 'style_sim': 'macro-style', 'song_style_sim': 'song-style'})\n",
    "    df_err = df_err.rename(columns={'chroma_sim': 'content', 'style_sim': 'macro-style', 'song_style_sim': 'song-style'})\n",
    "    return df, df_err"
   ]
  },
  {
   "cell_type": "code",
   "execution_count": 3,
   "metadata": {},
   "outputs": [
    {
     "data": {
      "text/html": [
       "<div>\n",
       "<style scoped>\n",
       "    .dataframe tbody tr th:only-of-type {\n",
       "        vertical-align: middle;\n",
       "    }\n",
       "\n",
       "    .dataframe tbody tr th {\n",
       "        vertical-align: top;\n",
       "    }\n",
       "\n",
       "    .dataframe thead th {\n",
       "        text-align: right;\n",
       "    }\n",
       "</style>\n",
       "<table border=\"1\" class=\"dataframe\">\n",
       "  <thead>\n",
       "    <tr style=\"text-align: right;\">\n",
       "      <th></th>\n",
       "      <th>content</th>\n",
       "      <th>macro-style</th>\n",
       "      <th>song-style</th>\n",
       "    </tr>\n",
       "    <tr>\n",
       "      <th>name</th>\n",
       "      <th></th>\n",
       "      <th></th>\n",
       "      <th></th>\n",
       "    </tr>\n",
       "  </thead>\n",
       "  <tbody>\n",
       "    <tr>\n",
       "      <th>bass2bass_seq2seq</th>\n",
       "      <td>0.611128</td>\n",
       "      <td>0.924306</td>\n",
       "      <td>0.804898</td>\n",
       "    </tr>\n",
       "    <tr>\n",
       "      <th>bass2bass_roll2seq</th>\n",
       "      <td>0.632196</td>\n",
       "      <td>0.935333</td>\n",
       "      <td>0.820797</td>\n",
       "    </tr>\n",
       "    <tr>\n",
       "      <th>all2bass</th>\n",
       "      <td>0.634791</td>\n",
       "      <td>0.931728</td>\n",
       "      <td>0.824284</td>\n",
       "    </tr>\n",
       "    <tr>\n",
       "      <th>source</th>\n",
       "      <td>1.000000</td>\n",
       "      <td>0.661065</td>\n",
       "      <td>0.415065</td>\n",
       "    </tr>\n",
       "  </tbody>\n",
       "</table>\n",
       "</div>"
      ],
      "text/plain": [
       "                     content  macro-style  song-style\n",
       "name                                                 \n",
       "bass2bass_seq2seq   0.611128     0.924306    0.804898\n",
       "bass2bass_roll2seq  0.632196     0.935333    0.820797\n",
       "all2bass            0.634791     0.931728    0.824284\n",
       "source              1.000000     0.661065    0.415065"
      ]
     },
     "metadata": {},
     "output_type": "display_data"
    },
    {
     "data": {
      "image/png": "[encoded data removed]",
      "text/plain": [
       "<Figure size 432x288 with 1 Axes>"
      ]
     },
     "metadata": {
      "needs_background": "light"
     },
     "output_type": "display_data"
    }
   ],
   "source": [
    "df, df_err = load_results('results/test_bass.pickle')\n",
    "df = df.reindex(['bass2bass_seq2seq', 'bass2bass_roll2seq', 'all2bass', 'source'])\n",
    "display(df)\n",
    "df.T.plot.bar(rot=0, yerr=df_err.T)\n",
    "plt.gca().tick_params(axis=u'x', which=u'both', length=0)\n",
    "plt.legend(loc='upper center', bbox_to_anchor=(0.5, -0.08), ncol=2)\n",
    "plt.show()"
   ]
  },
  {
   "cell_type": "code",
   "execution_count": 4,
   "metadata": {},
   "outputs": [
    {
     "data": {
      "text/html": [
       "<div>\n",
       "<style scoped>\n",
       "    .dataframe tbody tr th:only-of-type {\n",
       "        vertical-align: middle;\n",
       "    }\n",
       "\n",
       "    .dataframe tbody tr th {\n",
       "        vertical-align: top;\n",
       "    }\n",
       "\n",
       "    .dataframe thead th {\n",
       "        text-align: right;\n",
       "    }\n",
       "</style>\n",
       "<table border=\"1\" class=\"dataframe\">\n",
       "  <thead>\n",
       "    <tr style=\"text-align: right;\">\n",
       "      <th></th>\n",
       "      <th>content</th>\n",
       "      <th>macro-style</th>\n",
       "      <th>song-style</th>\n",
       "    </tr>\n",
       "    <tr>\n",
       "      <th>name</th>\n",
       "      <th></th>\n",
       "      <th></th>\n",
       "      <th></th>\n",
       "    </tr>\n",
       "  </thead>\n",
       "  <tbody>\n",
       "    <tr>\n",
       "      <th>piano2piano</th>\n",
       "      <td>0.608263</td>\n",
       "      <td>0.952518</td>\n",
       "      <td>0.886366</td>\n",
       "    </tr>\n",
       "    <tr>\n",
       "      <th>all2piano</th>\n",
       "      <td>0.600990</td>\n",
       "      <td>0.943412</td>\n",
       "      <td>0.890773</td>\n",
       "    </tr>\n",
       "    <tr>\n",
       "      <th>source</th>\n",
       "      <td>1.000000</td>\n",
       "      <td>0.774304</td>\n",
       "      <td>0.583419</td>\n",
       "    </tr>\n",
       "  </tbody>\n",
       "</table>\n",
       "</div>"
      ],
      "text/plain": [
       "              content  macro-style  song-style\n",
       "name                                          \n",
       "piano2piano  0.608263     0.952518    0.886366\n",
       "all2piano    0.600990     0.943412    0.890773\n",
       "source       1.000000     0.774304    0.583419"
      ]
     },
     "metadata": {},
     "output_type": "display_data"
    },
    {
     "data": {
      "image/png": "[encoded data removed]",
      "text/plain": [
       "<Figure size 432x288 with 1 Axes>"
      ]
     },
     "metadata": {
      "needs_background": "light"
     },
     "output_type": "display_data"
    }
   ],
   "source": [
    "df, df_err = load_results('results/test_piano.pickle')\n",
    "df = df.reindex(['piano2piano', 'all2piano', 'source'])\n",
    "display(df)\n",
    "df.T.plot.bar(rot=0, yerr=df_err.T)\n",
    "plt.gca().tick_params(axis=u'x', which=u'both', length=0)\n",
    "plt.legend(loc='upper center', bbox_to_anchor=(0.5, -0.08), ncol=1)\n",
    "plt.show()"
   ]
  }
 ],
 "metadata": {
  "kernelspec": {
   "display_name": "Python 3",
   "language": "python",
   "name": "python3"
  },
  "language_info": {
   "codemirror_mode": {
    "name": "ipython",
    "version": 3
   },
   "file_extension": ".py",
   "mimetype": "text/x-python",
   "name": "python",
   "nbconvert_exporter": "python",
   "pygments_lexer": "ipython3",
   "version": "3.6.8"
  }
 },
 "nbformat": 4,
 "nbformat_minor": 2
}
