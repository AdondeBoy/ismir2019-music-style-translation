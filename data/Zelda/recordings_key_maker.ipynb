{
 "nbformat": 4,
 "nbformat_minor": 0,
 "metadata": {
  "colab": {
   "provenance": []
  },
  "kernelspec": {
   "name": "python3",
   "display_name": "Python 3",
   "language": "python"
  },
  "language_info": {
   "name": "python"
  }
 },
 "cells": [
  {
   "source": [
    "import xml.etree.ElementTree as ET\n",
    "import os\n",
    "import xml.dom.minidom as minidom\n",
    "\n",
    "def create_xml(files, output_file):\n",
    "    \"\"\"Creates an XML file based on the provided template and list of files.\n",
    "\n",
    "    Args:\n",
    "        files: A list of file names.\n",
    "        output_file: The name of the output XML file.\n",
    "    \"\"\"\n",
    "\n",
    "    root = ET.Element(\"recordings_file\")\n",
    "\n",
    "    ET.SubElement(root, \"comments\")\n",
    "    ET.SubElement(root, \"file_path\").text = \"C:\\\\Zelda\\\\MIDI_Files\"  # Default path\n",
    "\n",
    "    for file in files:\n",
    "        recording = ET.SubElement(root, \"recording\")\n",
    "        ET.SubElement(recording, \"filename\").text = file\n",
    "        ET.SubElement(recording, \"role\").text = \"classification\"\n",
    "        model_genres = ET.SubElement(recording, \"model_genres\")\n",
    "        ET.SubElement(model_genres, \"genre\").text = \"Medieval\"\n",
    "        ET.SubElement(recording, \"title\").text = file.replace(\".mid\", \"\") #file.replace(\".mid\", \"\").replace(\"_\", \" \")\n",
    "        ET.SubElement(recording, \"artist\").text = \"Nintendo\"\n",
    "    \n",
    "    # Convert the XML tree to a string\n",
    "    xml_str = ET.tostring(root, encoding='unicode')\n",
    "    pretty_xml = minidom.parseString(xml_str).toprettyxml(indent=\"   \")\n",
    "\n",
    "    # Add DOCTYPE declaration\n",
    "    doctype = '<!DOCTYPE recordings_file [\\n' \\\n",
    "              '   <!ELEMENT recordings_file (comments, file_path, recording+)>\\n' \\\n",
    "              '   <!ELEMENT comments (#PCDATA)>\\n' \\\n",
    "              '   <!ELEMENT file_path (#PCDATA)>\\n' \\\n",
    "              '   <!ELEMENT recording (filename, role, model_genres, title, artist)>\\n' \\\n",
    "              '   <!ELEMENT filename (#PCDATA)>\\n' \\\n",
    "              '   <!ELEMENT role (#PCDATA)>\\n' \\\n",
    "              '   <!ELEMENT model_genres (genre*)>\\n' \\\n",
    "              '   <!ELEMENT genre (#PCDATA)>\\n' \\\n",
    "              '   <!ELEMENT title (#PCDATA)>\\n' \\\n",
    "              '   <!ELEMENT artist (#PCDATA)>\\n' \\\n",
    "              ']>\\n'\n",
    "\n",
    "    with open(output_file, 'w', encoding='utf-8') as f:\n",
    "        f.write(pretty_xml)\n",
    "\n",
    "def create_tsv(files, output_file):\n",
    "    \"\"\"Creates a TSV file based on the provided list of files.\n",
    "\n",
    "    Args:\n",
    "        files: A list of file names.\n",
    "        output_file: The name of the output TSV file.\n",
    "    \"\"\"\n",
    "    \n",
    "    with open(output_file, 'w', encoding='utf-8') as f:\n",
    "        #f.write(\"filename\\ttitle\\tartist\\tmodel_genres\\n\")\n",
    "        for file in files:\n",
    "            title = file.replace(\".mid\", \"\")\n",
    "            artist = \"Nintendo\"\n",
    "            model_genres = \"Medieval\"\n",
    "            f.write(f\"{file}\\t{title}\\t{artist}\\t{model_genres}\\n\")\n",
    "            \n",
    "\n",
    "def format_files(fileList):\n",
    "    \"\"\" Formats files by replacing each \" \" with \"_\".\n",
    "    Args:\n",
    "        fileList: A list of file names.\n",
    "        \n",
    "    Returns:\n",
    "        A list of formatted file names.\n",
    "    \"\"\"\n",
    "    formatted_files = []\n",
    "    for file in fileList:\n",
    "        formatted_file = file.replace(\" \", \"_\")\n",
    "        formatted_files.append(formatted_file)\n",
    "    return formatted_files\n",
    "\n",
    "path = \"MIDI_Files\"\n",
    "if not os.path.exists(path):\n",
    "    os.makedirs(path)\n",
    "files = [f for f in os.listdir(path) if f.endswith('.mid')]\n",
    "print(files)\n",
    "#files = format_files(files) # (unused)\n",
    "if len(files) > 0:\n",
    "    # create_xml(files, \"recordings_key.xml\")\n",
    "    create_tsv(files, \"recordings_key.tsv\")\n",
    "else:\n",
    "    print(\"No MIDI files found in the specified directory.\")"
   ],
   "cell_type": "code",
   "metadata": {
    "colab": {
     "base_uri": "https://localhost:8080/"
    },
    "id": "6LgGWCBFj1v3",
    "outputId": "848ddc4d-11f3-4286-948f-dab6db9ad1fd",
    "ExecuteTime": {
     "end_time": "2025-04-08T16:25:16.476571Z",
     "start_time": "2025-04-08T16:25:16.459598Z"
    }
   },
   "outputs": [
    {
     "name": "stdout",
     "output_type": "stream",
     "text": [
      "['ALTTP Dark World.mid', 'LA Search sword.mid', 'LA Staff roll.mid', 'LA Tal Tal Heights cover.mid', 'LA Tal Tal Heights.mid', 'MC Cloud Tops.mid', 'MC Hyrule Field (MT).mid', 'MC Hyrule Town.mid', 'MC Mt. Crenel.mid', 'MC Staff Roll.mid', 'MM Termina Field.mid', 'OOT Hyrule field 000.mid', 'OOT Hyrule field 001.mid', 'OOT Hyrule field 002.mid', 'OOT Hyrule field 003.mid', 'OOT Hyrule field 004.mid', 'OOT Hyrule field 005.mid', 'OOT Hyrule field 006.mid', 'OOT Hyrule field 007.mid', 'OOT Hyrule field 008.mid', 'OOT Hyrule field 009.mid', 'OOT Hyrule field 010.mid', 'OOT Hyrule field 011.mid', 'OOT Hyrule field 012.mid', 'OOT Hyrule field 013.mid', 'OOT Hyrule field 014.mid', 'OOT Hyrule field 015.mid', 'SMG Course Select 2.mid', 'SMG Flying Mario.mid', 'SS Ballad of the Goddess.mid', 'TP Hyrule Field.mid', 'WW Dragon Roost.mid', 'WW Sea.mid']\n"
     ]
    }
   ],
   "execution_count": 2
  },
  {
   "metadata": {},
   "cell_type": "code",
   "outputs": [],
   "execution_count": null,
   "source": ""
  }
 ]
}
