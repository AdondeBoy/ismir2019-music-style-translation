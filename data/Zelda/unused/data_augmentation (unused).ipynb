{
 "metadata": {
  "kernelspec": {
   "language": "python",
   "display_name": "Python 3",
   "name": "python3"
  },
  "language_info": {
   "name": "python",
   "version": "3.10.13",
   "mimetype": "text/x-python",
   "codemirror_mode": {
    "name": "ipython",
    "version": 3
   },
   "pygments_lexer": "ipython3",
   "nbconvert_exporter": "python",
   "file_extension": ".py"
  },
  "kaggle": {
   "accelerator": "none",
   "dataSources": [
    {
     "sourceId": 434491,
     "sourceType": "datasetVersion",
     "datasetId": 196294
    }
   ],
   "dockerImageVersionId": 30664,
   "isInternetEnabled": true,
   "language": "python",
   "sourceType": "notebook",
   "isGpuEnabled": false
  },
  "colab": {
   "name": "Augmenting 2 midi files from each",
   "provenance": []
  }
 },
 "nbformat_minor": 0,
 "nbformat": 4,
 "cells": [
  {
   "cell_type": "code",
   "source": [
    "import numpy as np # linear algebra\n",
    "import pandas as pd # data processing, CSV file I/O (e.g. pd.read_csv)\n",
    "import os\n"
   ],
   "metadata": {
    "_uuid": "8f2839f25d086af736a60e9eeb907d3b93b6e0e5",
    "_cell_guid": "b1076dfc-b9ad-4769-8c92-a6c4dae69d19",
    "execution": {
     "iopub.status.busy": "2024-03-11T07:43:44.727189Z",
     "iopub.execute_input": "2024-03-11T07:43:44.727683Z",
     "iopub.status.idle": "2024-03-11T07:43:46.335794Z",
     "shell.execute_reply.started": "2024-03-11T07:43:44.727635Z",
     "shell.execute_reply": "2024-03-11T07:43:46.33469Z"
    },
    "trusted": true,
    "id": "faiDx7x7Jud3",
    "ExecuteTime": {
     "end_time": "2025-04-10T15:55:07.474335Z",
     "start_time": "2025-04-10T15:55:07.463338Z"
    }
   },
   "outputs": [],
   "execution_count": 6
  },
  {
   "cell_type": "code",
   "source": "#!pip install pretty_midi",
   "metadata": {
    "execution": {
     "iopub.status.busy": "2024-03-11T07:43:46.339898Z",
     "iopub.execute_input": "2024-03-11T07:43:46.340426Z",
     "iopub.status.idle": "2024-03-11T07:44:10.7493Z",
     "shell.execute_reply.started": "2024-03-11T07:43:46.340391Z",
     "shell.execute_reply": "2024-03-11T07:44:10.74781Z"
    },
    "trusted": true,
    "id": "5rXdpZ2RJud4",
    "ExecuteTime": {
     "end_time": "2025-04-10T15:55:07.505352Z",
     "start_time": "2025-04-10T15:55:07.488337Z"
    }
   },
   "outputs": [],
   "execution_count": 7
  },
  {
   "cell_type": "code",
   "source": [
    "import pretty_midi\n",
    "import csv\n",
    "\n",
    "def copy_instrument(original_instrument):\n",
    "    new_instrument = pretty_midi.Instrument(program=original_instrument.program)\n",
    "\n",
    "    for note in original_instrument.notes:\n",
    "        new_instrument.notes.append(pretty_midi.Note(\n",
    "            start=note.start,\n",
    "            end=note.end,\n",
    "            pitch=note.pitch,\n",
    "            velocity=note.velocity\n",
    "        ))\n",
    "\n",
    "    return new_instrument\n",
    "\n",
    "def add_imperfection(midi_data, timing_factor=0.98, pitch_factor=0.98, velocity_factor=0.98):\n",
    "    # Create a copy of the MIDI data\n",
    "    modified_midi_data = pretty_midi.PrettyMIDI()\n",
    "\n",
    "    # Manipulate the timing, pitch, and velocity of notes\n",
    "    for instrument in midi_data.instruments:\n",
    "        new_instrument = copy_instrument(instrument)\n",
    "\n",
    "        for note in new_instrument.notes:\n",
    "            if int(note.velocity * velocity_factor) < 0 or int(note.velocity * velocity_factor) > 127:\n",
    "                return None\n",
    "            # Apply timing factor\n",
    "            note.start *= timing_factor\n",
    "            note.end *= timing_factor\n",
    "\n",
    "            # Apply pitch factor\n",
    "            note.pitch = int(note.pitch * pitch_factor)\n",
    "\n",
    "            # Apply velocity factor and keep it within the valid MIDI range\n",
    "            note.velocity = max(0, min(int(note.velocity * velocity_factor), 127))\n",
    "\n",
    "        modified_midi_data.instruments.append(new_instrument)\n",
    "\n",
    "    return modified_midi_data\n",
    "\n",
    "def process_dataset(dataset_path):\n",
    "    print(\"Number of files before augmentation: \", len(os.listdir(dataset_path)))\n",
    "    for midi_file in os.listdir(dataset_path):\n",
    "        if midi_file.endswith(\".mid\"):\n",
    "            midi_file_path = os.path.join(dataset_path, midi_file)\n",
    "\n",
    "            # Load the original MIDI file\n",
    "            original_midi_data = pretty_midi.PrettyMIDI(midi_file_path)\n",
    "\n",
    "            # Add imperfection to the MIDI data - First augmentation\n",
    "            modified_midi_data_1 = add_imperfection(original_midi_data, timing_factor=0.98, pitch_factor=0.98, velocity_factor=0.98)\n",
    "\n",
    "            # if result is none, skip writing the file\n",
    "            if modified_midi_data_1 is None:\n",
    "                print(f\"Skipping {midi_file} modification_1 due to invalid velocity after modification.\")\n",
    "            else:\n",
    "                # Save the first modified MIDI file\n",
    "                modified_output_path_1 = os.path.join(dataset_path, f\"{midi_file.replace('.mid', '_modified1.mid')}\")\n",
    "                \n",
    "                try:\n",
    "                    modified_midi_data_1.write(modified_output_path_1)\n",
    "                except ValueError as e:\n",
    "                    print(f\"Error writing modified file 1 for {midi_file}: {e}\")\n",
    "\n",
    "            # Add imperfection to the MIDI data - Second augmentation\n",
    "            modified_midi_data_2 = add_imperfection(original_midi_data, timing_factor=1.02, pitch_factor=1.02, velocity_factor=1.02)\n",
    "            \n",
    "            # if result is none, skip writing the file\n",
    "            if modified_midi_data_2 is None:\n",
    "                print(f\"Skipping {midi_file} modification_2 due to invalid velocity after modification.\")\n",
    "            else:\n",
    "                # Save the second modified MIDI file\n",
    "                modified_output_path_2 = os.path.join(dataset_path, f\"{midi_file.replace('.mid', '_modified2.mid')}\")\n",
    "                \n",
    "                # if result is none, skip writing the file\n",
    "                try:\n",
    "                    modified_midi_data_2.write(modified_output_path_2)\n",
    "                except ValueError as e:\n",
    "                    print(f\"Error writing modified file 2 for {midi_file}: {e}\")\n",
    "                \n",
    "            # Add imperfection to the MIDI data - Third augmentation\n",
    "            modified_midi_data_3 = add_imperfection(original_midi_data, timing_factor=1.05, pitch_factor=1.05, velocity_factor=1.05)\n",
    "            \n",
    "            # if result is none, skip writing the file\n",
    "            if modified_midi_data_3 is None:\n",
    "                print(f\"Skipping {midi_file} modification_3 due to invalid velocity after modification.\")\n",
    "            else:\n",
    "                # Save the third modified MIDI file\n",
    "                modified_output_path_3 = os.path.join(dataset_path, f\"{midi_file.replace('.mid', '_modified3.mid')}\")\n",
    "                \n",
    "                # if result is none, skip writing the file\n",
    "                try:\n",
    "                    modified_midi_data_3.write(modified_output_path_3)\n",
    "                except ValueError as e:\n",
    "                    print(f\"Error writing modified file 3 for {midi_file}: {e}\")\n",
    "                \n",
    "            # Add imperfection to the MIDI data - Fourth augmentation\n",
    "            \n",
    "            modified_midi_data_4 = add_imperfection(original_midi_data, timing_factor=0.95, pitch_factor=0.95, velocity_factor=0.95)\n",
    "            \n",
    "            # if result is none, skip writing the file\n",
    "            if modified_midi_data_4 is None:\n",
    "                print(f\"Skipping {midi_file} modification_4 due to invalid velocity after modification.\")\n",
    "                continue\n",
    "            else:\n",
    "                # Save the fourth modified MIDI file\n",
    "                modified_output_path_4 = os.path.join(dataset_path, f\"{midi_file.replace('.mid', '_modified4.mid')}\")\n",
    "                try:\n",
    "                    modified_midi_data_4.write(modified_output_path_4)\n",
    "                except ValueError as e:\n",
    "                    print(f\"Error writing modified file 4 for {midi_file}: {e}\")\n",
    "                    \n",
    "            # Add imperfection to the MIDI data - Fifth augmentation\n",
    "            modified_midi_data_5 = add_imperfection(original_midi_data, timing_factor=0.92, pitch_factor=0.92, velocity_factor=0.92)\n",
    "            \n",
    "            # if result is none, skip writing the file\n",
    "            if modified_midi_data_5 is None:\n",
    "                print(f\"Skipping {midi_file} modification_5 due to invalid velocity after modification.\")\n",
    "                continue\n",
    "            \n",
    "            # Save the fifth modified MIDI file\n",
    "            modified_output_path_5 = os.path.join(dataset_path, f\"{midi_file.replace('.mid', '_modified5.mid')}\")\n",
    "            try:\n",
    "                modified_midi_data_5.write(modified_output_path_5)\n",
    "            except ValueError as e:\n",
    "                print(f\"Error writing modified file 5 for {midi_file}: {e}\")\n",
    "            \n",
    "    print(\"Number of files after augmentation: \", len(os.listdir(dataset_path)))\n",
    "        \n",
    "def main():\n",
    "    # Specify the dataset directory\n",
    "    dataset_path = \"MIDI_Files/\"\n",
    "\n",
    "    # Process the dataset\n",
    "    process_dataset(dataset_path)\n",
    "\n",
    "if __name__ == \"__main__\":\n",
    "    main()\n"
   ],
   "metadata": {
    "execution": {
     "iopub.status.busy": "2024-03-11T07:48:08.847104Z",
     "iopub.execute_input": "2024-03-11T07:48:08.847587Z",
     "iopub.status.idle": "2024-03-11T07:51:36.536558Z",
     "shell.execute_reply.started": "2024-03-11T07:48:08.847542Z",
     "shell.execute_reply": "2024-03-11T07:51:36.535234Z"
    },
    "trusted": true,
    "id": "E0lgG_DwJud4",
    "outputId": "db9cc9ed-caf0-4c06-c124-4f69e08e88af",
    "colab": {
     "base_uri": "https://localhost:8080/"
    },
    "ExecuteTime": {
     "end_time": "2025-04-10T17:47:36.621147Z",
     "start_time": "2025-04-10T17:47:05.008668Z"
    }
   },
   "outputs": [
    {
     "name": "stdout",
     "output_type": "stream",
     "text": [
      "Number of files before augmentation:  61\n",
      "Skipping ALBW Lorule Castle.mid modification_2 due to invalid velocity after modification.\n",
      "Skipping ALBW Lorule Castle.mid modification_3 due to invalid velocity after modification.\n",
      "Skipping FS Staff Roll.mid modification_2 due to invalid velocity after modification.\n",
      "Skipping FS Staff Roll.mid modification_3 due to invalid velocity after modification.\n",
      "Skipping FS The Four Links.mid modification_2 due to invalid velocity after modification.\n",
      "Skipping FS The Four Links.mid modification_3 due to invalid velocity after modification.\n",
      "Skipping FS Title Theme.mid modification_2 due to invalid velocity after modification.\n",
      "Skipping FS Title Theme.mid modification_3 due to invalid velocity after modification.\n",
      "Skipping FSA Hyrule Field.mid modification_2 due to invalid velocity after modification.\n",
      "Skipping FSA Hyrule Field.mid modification_3 due to invalid velocity after modification.\n",
      "Skipping FSA Realm.mid modification_2 due to invalid velocity after modification.\n",
      "Skipping FSA Realm.mid modification_3 due to invalid velocity after modification.\n",
      "Skipping LA Tal Tal Heights cover.mid modification_2 due to invalid velocity after modification.\n",
      "Skipping LA Tal Tal Heights cover.mid modification_3 due to invalid velocity after modification.\n",
      "Skipping MC Cloud Tops.mid modification_2 due to invalid velocity after modification.\n",
      "Skipping MC Cloud Tops.mid modification_3 due to invalid velocity after modification.\n",
      "Skipping MC Hyrule Field (MT).mid modification_2 due to invalid velocity after modification.\n",
      "Skipping MC Hyrule Field (MT).mid modification_3 due to invalid velocity after modification.\n",
      "Skipping MC Hyrule Town.mid modification_2 due to invalid velocity after modification.\n",
      "Skipping MC Hyrule Town.mid modification_3 due to invalid velocity after modification.\n",
      "Skipping MC Mt. Crenel.mid modification_2 due to invalid velocity after modification.\n",
      "Skipping MC Mt. Crenel.mid modification_3 due to invalid velocity after modification.\n",
      "Skipping MC Staff Roll.mid modification_2 due to invalid velocity after modification.\n",
      "Skipping MC Staff Roll.mid modification_3 due to invalid velocity after modification.\n",
      "Skipping MM Termina Field.mid modification_2 due to invalid velocity after modification.\n",
      "Skipping MM Termina Field.mid modification_3 due to invalid velocity after modification.\n",
      "Skipping OOT Hyrule field 000.mid modification_3 due to invalid velocity after modification.\n",
      "Skipping OOT Hyrule field 001.mid modification_2 due to invalid velocity after modification.\n",
      "Skipping OOT Hyrule field 001.mid modification_3 due to invalid velocity after modification.\n",
      "Skipping OOT Hyrule field 003.mid modification_3 due to invalid velocity after modification.\n",
      "Skipping OOT Hyrule field 004.mid modification_3 due to invalid velocity after modification.\n",
      "Skipping OOT Hyrule field 005.mid modification_3 due to invalid velocity after modification.\n",
      "Skipping OOT Hyrule field 006.mid modification_2 due to invalid velocity after modification.\n",
      "Skipping OOT Hyrule field 006.mid modification_3 due to invalid velocity after modification.\n",
      "Skipping OOT Hyrule field 008.mid modification_3 due to invalid velocity after modification.\n",
      "Skipping OOT Hyrule field 010.mid modification_2 due to invalid velocity after modification.\n",
      "Skipping OOT Hyrule field 010.mid modification_3 due to invalid velocity after modification.\n",
      "Skipping OOT Hyrule field 011.mid modification_2 due to invalid velocity after modification.\n",
      "Skipping OOT Hyrule field 011.mid modification_3 due to invalid velocity after modification.\n",
      "Skipping OOT Hyrule field 012.mid modification_2 due to invalid velocity after modification.\n",
      "Skipping OOT Hyrule field 012.mid modification_3 due to invalid velocity after modification.\n",
      "Skipping OOT Hyrule field 013.mid modification_3 due to invalid velocity after modification.\n",
      "Skipping OOT Hyrule field 014.mid modification_3 due to invalid velocity after modification.\n",
      "Skipping OOT Hyrule field 015.mid modification_3 due to invalid velocity after modification.\n",
      "Skipping PH A Battle Across the World.mid modification_2 due to invalid velocity after modification.\n",
      "Skipping PH A Battle Across the World.mid modification_3 due to invalid velocity after modification.\n",
      "Skipping PH Attack Dirge.mid modification_3 due to invalid velocity after modification.\n",
      "Skipping PH Great Sea.mid modification_2 due to invalid velocity after modification.\n",
      "Skipping PH Great Sea.mid modification_3 due to invalid velocity after modification.\n",
      "Skipping PH Linebeck.mid modification_2 due to invalid velocity after modification.\n",
      "Skipping PH Linebeck.mid modification_3 due to invalid velocity after modification.\n",
      "Skipping PH Staff Roll.mid modification_2 due to invalid velocity after modification.\n",
      "Skipping PH Staff Roll.mid modification_3 due to invalid velocity after modification.\n",
      "Skipping PH Title Theme.mid modification_2 due to invalid velocity after modification.\n",
      "Skipping PH Title Theme.mid modification_3 due to invalid velocity after modification.\n",
      "Skipping SS Ballad of the Goddess.mid modification_3 due to invalid velocity after modification.\n",
      "Skipping ST Realm Overworld.mid modification_2 due to invalid velocity after modification.\n",
      "Skipping ST Realm Overworld.mid modification_3 due to invalid velocity after modification.\n",
      "Skipping ST Unknown 1.mid modification_2 due to invalid velocity after modification.\n",
      "Skipping ST Unknown 1.mid modification_3 due to invalid velocity after modification.\n",
      "Skipping ST Unknown 10.mid modification_3 due to invalid velocity after modification.\n",
      "Skipping ST Unknown 2.mid modification_2 due to invalid velocity after modification.\n",
      "Skipping ST Unknown 2.mid modification_3 due to invalid velocity after modification.\n",
      "Skipping ST Unknown 3.mid modification_2 due to invalid velocity after modification.\n",
      "Skipping ST Unknown 3.mid modification_3 due to invalid velocity after modification.\n",
      "Skipping ST Unknown 4.mid modification_2 due to invalid velocity after modification.\n",
      "Skipping ST Unknown 4.mid modification_3 due to invalid velocity after modification.\n",
      "Skipping ST Unknown 5.mid modification_2 due to invalid velocity after modification.\n",
      "Skipping ST Unknown 5.mid modification_3 due to invalid velocity after modification.\n",
      "Skipping ST Unknown 6.mid modification_2 due to invalid velocity after modification.\n",
      "Skipping ST Unknown 6.mid modification_3 due to invalid velocity after modification.\n",
      "Skipping ST Unknown 7.mid modification_2 due to invalid velocity after modification.\n",
      "Skipping ST Unknown 7.mid modification_3 due to invalid velocity after modification.\n",
      "Skipping ST Unknown 8.mid modification_2 due to invalid velocity after modification.\n",
      "Skipping ST Unknown 8.mid modification_3 due to invalid velocity after modification.\n",
      "Skipping ST Unknown 9.mid modification_3 due to invalid velocity after modification.\n",
      "Skipping TP Hyrule Field.mid modification_2 due to invalid velocity after modification.\n",
      "Skipping TP Hyrule Field.mid modification_3 due to invalid velocity after modification.\n",
      "Skipping WW Sea.mid modification_2 due to invalid velocity after modification.\n",
      "Skipping WW Sea.mid modification_3 due to invalid velocity after modification.\n",
      "Number of files after augmentation:  286\n"
     ]
    }
   ],
   "execution_count": 18
  },
  {
   "cell_type": "code",
   "source": [
    "#import pandas as pd\n",
    "#df=pd.read_csv('MIDI_Files_Aug/augmented_dataset_records.csv')\n",
    "#df.head()"
   ],
   "metadata": {
    "execution": {
     "iopub.status.busy": "2024-03-11T08:12:57.416035Z",
     "iopub.execute_input": "2024-03-11T08:12:57.417819Z",
     "iopub.status.idle": "2024-03-11T08:12:57.45865Z",
     "shell.execute_reply.started": "2024-03-11T08:12:57.417758Z",
     "shell.execute_reply": "2024-03-11T08:12:57.457476Z"
    },
    "trusted": true,
    "id": "U2NgzDI0Jud5",
    "outputId": "8c26c3f5-2f53-4faf-e6a1-b67cf82d2900",
    "colab": {
     "base_uri": "https://localhost:8080/",
     "height": 53
    },
    "ExecuteTime": {
     "end_time": "2025-04-10T15:55:27.381081Z",
     "start_time": "2025-04-10T15:55:27.366785Z"
    }
   },
   "outputs": [],
   "execution_count": 9
  },
  {
   "cell_type": "code",
   "source": [
    "# remove MIDI_Files and MIDI_FILES_Aug dirs\n",
    "#!rm -rf MIDI_Files\n",
    "#!rm -rf MIDI_Files_Aug"
   ],
   "metadata": {
    "id": "ur7BnCKYJud5",
    "ExecuteTime": {
     "end_time": "2025-04-10T15:55:27.396292Z",
     "start_time": "2025-04-10T15:55:27.381966Z"
    }
   },
   "outputs": [],
   "execution_count": 10
  },
  {
   "metadata": {
    "ExecuteTime": {
     "end_time": "2025-04-10T17:46:59.167518Z",
     "start_time": "2025-04-10T17:46:59.117518Z"
    }
   },
   "cell_type": "code",
   "source": [
    "# remove augmented files from MIDI_Files\n",
    "import os\n",
    "import glob\n",
    "\n",
    "files = glob.glob('MIDI_Files/*_modified*.mid')\n",
    "\n",
    "for file in files:\n",
    "    try:\n",
    "        os.remove(file)\n",
    "    except Exception as e:\n",
    "        print(f\"Error removing file {file}: {e}\")"
   ],
   "outputs": [],
   "execution_count": 17
  },
  {
   "metadata": {},
   "cell_type": "code",
   "outputs": [],
   "execution_count": null,
   "source": ""
  }
 ]
}
