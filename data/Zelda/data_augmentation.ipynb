{
 "metadata": {
  "kernelspec": {
   "language": "python",
   "display_name": "Python 3",
   "name": "python3"
  },
  "language_info": {
   "name": "python",
   "version": "3.10.13",
   "mimetype": "text/x-python",
   "codemirror_mode": {
    "name": "ipython",
    "version": 3
   },
   "pygments_lexer": "ipython3",
   "nbconvert_exporter": "python",
   "file_extension": ".py"
  },
  "kaggle": {
   "accelerator": "none",
   "dataSources": [
    {
     "sourceId": 434491,
     "sourceType": "datasetVersion",
     "datasetId": 196294
    }
   ],
   "dockerImageVersionId": 30664,
   "isInternetEnabled": true,
   "language": "python",
   "sourceType": "notebook",
   "isGpuEnabled": false
  },
  "colab": {
   "name": "Augmenting 2 midi files from each",
   "provenance": []
  }
 },
 "nbformat_minor": 0,
 "nbformat": 4,
 "cells": [
  {
   "metadata": {
    "ExecuteTime": {
     "end_time": "2025-04-22T17:24:12.453806Z",
     "start_time": "2025-04-22T17:24:12.443783Z"
    }
   },
   "cell_type": "code",
   "source": [
    "# remove augmented files from MIDI_Files\n",
    "import os\n",
    "import glob\n",
    "\n",
    "files = glob.glob('MIDI_Files/*_modified*.mid')\n",
    "\n",
    "for file in files:\n",
    "    try:\n",
    "        os.remove(file)\n",
    "    except Exception as e:\n",
    "        print(f\"Error removing file {file}: {e}\")"
   ],
   "outputs": [],
   "execution_count": 18
  },
  {
   "metadata": {
    "ExecuteTime": {
     "end_time": "2025-04-22T17:24:09.518523Z",
     "start_time": "2025-04-22T17:24:07.776495Z"
    }
   },
   "cell_type": "code",
   "source": [
    "import pretty_midi\n",
    "import os\n",
    "\n",
    "def copy_instrument(original_instrument):\n",
    "    new_instrument = pretty_midi.Instrument(program=original_instrument.program, is_drum=original_instrument.is_drum, name=original_instrument.name)\n",
    "\n",
    "    for note in original_instrument.notes:\n",
    "        new_instrument.notes.append(pretty_midi.Note(\n",
    "            start=note.start,\n",
    "            end=note.end,\n",
    "            pitch=note.pitch,\n",
    "            velocity=note.velocity\n",
    "        ))\n",
    "        \n",
    "    for control_change in original_instrument.control_changes:\n",
    "        new_instrument.control_changes.append(pretty_midi.ControlChange(\n",
    "            number=control_change.number,\n",
    "            value=control_change.value,\n",
    "            time=control_change.time\n",
    "        ))\n",
    "        \n",
    "    for pitch_bend in original_instrument.pitch_bends:\n",
    "        new_instrument.pitch_bends.append(pretty_midi.PitchBend(\n",
    "            pitch=pitch_bend.pitch,\n",
    "            time=pitch_bend.time\n",
    "        ))\n",
    "\n",
    "    return new_instrument\n",
    "\n",
    "def add_imperfection(midi_data, pitch_offset=-4):\n",
    "    # Crear una copia de los datos MIDI\n",
    "    modified_midi_data = pretty_midi.PrettyMIDI()\n",
    "\n",
    "    # Manipular el pitch de las notas\n",
    "    for instrument in midi_data.instruments:\n",
    "        new_instrument = copy_instrument(instrument)\n",
    "        if not instrument.is_drum:\n",
    "            for note in new_instrument.notes:\n",
    "                if int(note.pitch + pitch_offset) < 0 or int(note.pitch + pitch_offset) > 127:\n",
    "                    return None\n",
    "    \n",
    "                # Aplicar el offset de pitch\n",
    "                note.pitch = int(note.pitch + pitch_offset)\n",
    "\n",
    "        modified_midi_data.instruments.append(new_instrument)\n",
    "\n",
    "    return modified_midi_data\n",
    "\n",
    "def process_dataset(dataset_path):\n",
    "    debug = False\n",
    "    n_files_before = len(os.listdir(dataset_path))\n",
    "    print(\"Number of files before augmentation: \", n_files_before)\n",
    "    \n",
    "    pitch_offset_list = [-16, -12, -8, -4, 4, 8, 12]\n",
    "    for midi_file in os.listdir(dataset_path):\n",
    "        if midi_file.endswith(\".mid\"):\n",
    "            midi_file_path = os.path.join(dataset_path, midi_file)\n",
    "    \n",
    "            # Cargar el archivo MIDI original\n",
    "            original_midi_data = pretty_midi.PrettyMIDI(midi_file_path)\n",
    "    \n",
    "            # Iterar sobre los valores de pitch_offset\n",
    "            for i, pitch_offset in enumerate(pitch_offset_list, start=1):\n",
    "                # Modificar los datos MIDI\n",
    "                modified_midi_data = add_imperfection(original_midi_data, pitch_offset=pitch_offset)\n",
    "    \n",
    "                # Si el resultado es None, omitir la escritura del archivo\n",
    "                if modified_midi_data is None:\n",
    "                    if debug:\n",
    "                        print(f\"Skipping {midi_file} modification_{i} due to invalid pitch after modification.\")\n",
    "                    continue\n",
    "    \n",
    "                # Guardar el archivo MIDI modificado\n",
    "                modified_output_path = os.path.join(dataset_path, f\"{midi_file.replace('.mid', f'_modified{i}.mid')}\")\n",
    "                try:\n",
    "                    modified_midi_data.write(modified_output_path)\n",
    "                except ValueError as e:\n",
    "                    print(f\"Error writing modified file {i} for {midi_file}: {e}\")\n",
    "            \n",
    "    n_files_after = len(os.listdir(dataset_path))\n",
    "    print(\"Number of files after augmentation: \", n_files_after)\n",
    "    print(\"Number of failures during augmentation: \", n_files_after - (n_files_before * (len(pitch_offset_list)+1)))\n",
    "        \n",
    "def main():\n",
    "    # Specify the dataset directory\n",
    "    dataset_path = \"MIDI_Files/\"\n",
    "\n",
    "    # Process the dataset\n",
    "    process_dataset(dataset_path)\n",
    "\n",
    "if __name__ == \"__main__\":\n",
    "    main()\n"
   ],
   "outputs": [
    {
     "name": "stdout",
     "output_type": "stream",
     "text": [
      "Number of files before augmentation:  61\n"
     ]
    },
    {
     "ename": "KeyboardInterrupt",
     "evalue": "",
     "output_type": "error",
     "traceback": [
      "\u001B[1;31m---------------------------------------------------------------------------\u001B[0m",
      "\u001B[1;31mKeyboardInterrupt\u001B[0m                         Traceback (most recent call last)",
      "\u001B[1;32m<ipython-input-17-84da11619238>\u001B[0m in \u001B[0;36m<module>\u001B[1;34m\u001B[0m\n\u001B[0;32m     90\u001B[0m \u001B[1;33m\u001B[0m\u001B[0m\n\u001B[0;32m     91\u001B[0m \u001B[1;32mif\u001B[0m \u001B[0m__name__\u001B[0m \u001B[1;33m==\u001B[0m \u001B[1;34m\"__main__\"\u001B[0m\u001B[1;33m:\u001B[0m\u001B[1;33m\u001B[0m\u001B[1;33m\u001B[0m\u001B[0m\n\u001B[1;32m---> 92\u001B[1;33m     \u001B[0mmain\u001B[0m\u001B[1;33m(\u001B[0m\u001B[1;33m)\u001B[0m\u001B[1;33m\u001B[0m\u001B[1;33m\u001B[0m\u001B[0m\n\u001B[0m\u001B[0;32m     93\u001B[0m \u001B[1;33m\u001B[0m\u001B[0m\n",
      "\u001B[1;32m<ipython-input-17-84da11619238>\u001B[0m in \u001B[0;36mmain\u001B[1;34m()\u001B[0m\n\u001B[0;32m     87\u001B[0m \u001B[1;33m\u001B[0m\u001B[0m\n\u001B[0;32m     88\u001B[0m     \u001B[1;31m# Process the dataset\u001B[0m\u001B[1;33m\u001B[0m\u001B[1;33m\u001B[0m\u001B[1;33m\u001B[0m\u001B[0m\n\u001B[1;32m---> 89\u001B[1;33m     \u001B[0mprocess_dataset\u001B[0m\u001B[1;33m(\u001B[0m\u001B[0mdataset_path\u001B[0m\u001B[1;33m)\u001B[0m\u001B[1;33m\u001B[0m\u001B[1;33m\u001B[0m\u001B[0m\n\u001B[0m\u001B[0;32m     90\u001B[0m \u001B[1;33m\u001B[0m\u001B[0m\n\u001B[0;32m     91\u001B[0m \u001B[1;32mif\u001B[0m \u001B[0m__name__\u001B[0m \u001B[1;33m==\u001B[0m \u001B[1;34m\"__main__\"\u001B[0m\u001B[1;33m:\u001B[0m\u001B[1;33m\u001B[0m\u001B[1;33m\u001B[0m\u001B[0m\n",
      "\u001B[1;32m<ipython-input-17-84da11619238>\u001B[0m in \u001B[0;36mprocess_dataset\u001B[1;34m(dataset_path)\u001B[0m\n\u001B[0;32m     74\u001B[0m                 \u001B[0mmodified_output_path\u001B[0m \u001B[1;33m=\u001B[0m \u001B[0mos\u001B[0m\u001B[1;33m.\u001B[0m\u001B[0mpath\u001B[0m\u001B[1;33m.\u001B[0m\u001B[0mjoin\u001B[0m\u001B[1;33m(\u001B[0m\u001B[0mdataset_path\u001B[0m\u001B[1;33m,\u001B[0m \u001B[1;34mf\"{midi_file.replace('.mid', f'_modified{i}.mid')}\"\u001B[0m\u001B[1;33m)\u001B[0m\u001B[1;33m\u001B[0m\u001B[1;33m\u001B[0m\u001B[0m\n\u001B[0;32m     75\u001B[0m                 \u001B[1;32mtry\u001B[0m\u001B[1;33m:\u001B[0m\u001B[1;33m\u001B[0m\u001B[1;33m\u001B[0m\u001B[0m\n\u001B[1;32m---> 76\u001B[1;33m                     \u001B[0mmodified_midi_data\u001B[0m\u001B[1;33m.\u001B[0m\u001B[0mwrite\u001B[0m\u001B[1;33m(\u001B[0m\u001B[0mmodified_output_path\u001B[0m\u001B[1;33m)\u001B[0m\u001B[1;33m\u001B[0m\u001B[1;33m\u001B[0m\u001B[0m\n\u001B[0m\u001B[0;32m     77\u001B[0m                 \u001B[1;32mexcept\u001B[0m \u001B[0mValueError\u001B[0m \u001B[1;32mas\u001B[0m \u001B[0me\u001B[0m\u001B[1;33m:\u001B[0m\u001B[1;33m\u001B[0m\u001B[1;33m\u001B[0m\u001B[0m\n\u001B[0;32m     78\u001B[0m                     \u001B[0mprint\u001B[0m\u001B[1;33m(\u001B[0m\u001B[1;34mf\"Error writing modified file {i} for {midi_file}: {e}\"\u001B[0m\u001B[1;33m)\u001B[0m\u001B[1;33m\u001B[0m\u001B[1;33m\u001B[0m\u001B[0m\n",
      "\u001B[1;32mc:\\users\\santi\\documents\\github\\groove2groove\\venv\\lib\\site-packages\\pretty_midi\\pretty_midi.py\u001B[0m in \u001B[0;36mwrite\u001B[1;34m(self, filename)\u001B[0m\n\u001B[0;32m   1330\u001B[0m                 \u001B[1;31m# Also need a note-off event (note on with velocity 0)\u001B[0m\u001B[1;33m\u001B[0m\u001B[1;33m\u001B[0m\u001B[1;33m\u001B[0m\u001B[0m\n\u001B[0;32m   1331\u001B[0m                 track.append(mido.Message(\n\u001B[1;32m-> 1332\u001B[1;33m                     \u001B[1;34m'note_on'\u001B[0m\u001B[1;33m,\u001B[0m \u001B[0mtime\u001B[0m\u001B[1;33m=\u001B[0m\u001B[0mself\u001B[0m\u001B[1;33m.\u001B[0m\u001B[0mtime_to_tick\u001B[0m\u001B[1;33m(\u001B[0m\u001B[0mnote\u001B[0m\u001B[1;33m.\u001B[0m\u001B[0mend\u001B[0m\u001B[1;33m)\u001B[0m\u001B[1;33m,\u001B[0m\u001B[1;33m\u001B[0m\u001B[1;33m\u001B[0m\u001B[0m\n\u001B[0m\u001B[0;32m   1333\u001B[0m                     channel=channel, note=note.pitch, velocity=0))\n\u001B[0;32m   1334\u001B[0m             \u001B[1;31m# Add all pitch bend events\u001B[0m\u001B[1;33m\u001B[0m\u001B[1;33m\u001B[0m\u001B[1;33m\u001B[0m\u001B[0m\n",
      "\u001B[1;32mc:\\users\\santi\\documents\\github\\groove2groove\\venv\\lib\\site-packages\\pretty_midi\\pretty_midi.py\u001B[0m in \u001B[0;36mtime_to_tick\u001B[1;34m(self, time)\u001B[0m\n\u001B[0;32m    969\u001B[0m         \"\"\"\n\u001B[0;32m    970\u001B[0m         \u001B[1;31m# Find the index of the ticktime which is smaller than time\u001B[0m\u001B[1;33m\u001B[0m\u001B[1;33m\u001B[0m\u001B[1;33m\u001B[0m\u001B[0m\n\u001B[1;32m--> 971\u001B[1;33m         \u001B[0mtick\u001B[0m \u001B[1;33m=\u001B[0m \u001B[0mnp\u001B[0m\u001B[1;33m.\u001B[0m\u001B[0msearchsorted\u001B[0m\u001B[1;33m(\u001B[0m\u001B[0mself\u001B[0m\u001B[1;33m.\u001B[0m\u001B[0m__tick_to_time\u001B[0m\u001B[1;33m,\u001B[0m \u001B[0mtime\u001B[0m\u001B[1;33m,\u001B[0m \u001B[0mside\u001B[0m\u001B[1;33m=\u001B[0m\u001B[1;34m\"left\"\u001B[0m\u001B[1;33m)\u001B[0m\u001B[1;33m\u001B[0m\u001B[1;33m\u001B[0m\u001B[0m\n\u001B[0m\u001B[0;32m    972\u001B[0m         \u001B[1;31m# If the closest tick was the final tick in self.__tick_to_time...\u001B[0m\u001B[1;33m\u001B[0m\u001B[1;33m\u001B[0m\u001B[1;33m\u001B[0m\u001B[0m\n\u001B[0;32m    973\u001B[0m         \u001B[1;32mif\u001B[0m \u001B[0mtick\u001B[0m \u001B[1;33m==\u001B[0m \u001B[0mlen\u001B[0m\u001B[1;33m(\u001B[0m\u001B[0mself\u001B[0m\u001B[1;33m.\u001B[0m\u001B[0m__tick_to_time\u001B[0m\u001B[1;33m)\u001B[0m\u001B[1;33m:\u001B[0m\u001B[1;33m\u001B[0m\u001B[1;33m\u001B[0m\u001B[0m\n",
      "\u001B[1;32m<__array_function__ internals>\u001B[0m in \u001B[0;36msearchsorted\u001B[1;34m(*args, **kwargs)\u001B[0m\n",
      "\u001B[1;32mc:\\users\\santi\\documents\\github\\groove2groove\\venv\\lib\\site-packages\\numpy\\core\\fromnumeric.py\u001B[0m in \u001B[0;36msearchsorted\u001B[1;34m(a, v, side, sorter)\u001B[0m\n\u001B[0;32m   1339\u001B[0m \u001B[1;33m\u001B[0m\u001B[0m\n\u001B[0;32m   1340\u001B[0m     \"\"\"\n\u001B[1;32m-> 1341\u001B[1;33m     \u001B[1;32mreturn\u001B[0m \u001B[0m_wrapfunc\u001B[0m\u001B[1;33m(\u001B[0m\u001B[0ma\u001B[0m\u001B[1;33m,\u001B[0m \u001B[1;34m'searchsorted'\u001B[0m\u001B[1;33m,\u001B[0m \u001B[0mv\u001B[0m\u001B[1;33m,\u001B[0m \u001B[0mside\u001B[0m\u001B[1;33m=\u001B[0m\u001B[0mside\u001B[0m\u001B[1;33m,\u001B[0m \u001B[0msorter\u001B[0m\u001B[1;33m=\u001B[0m\u001B[0msorter\u001B[0m\u001B[1;33m)\u001B[0m\u001B[1;33m\u001B[0m\u001B[1;33m\u001B[0m\u001B[0m\n\u001B[0m\u001B[0;32m   1342\u001B[0m \u001B[1;33m\u001B[0m\u001B[0m\n\u001B[0;32m   1343\u001B[0m \u001B[1;33m\u001B[0m\u001B[0m\n",
      "\u001B[1;32mc:\\users\\santi\\documents\\github\\groove2groove\\venv\\lib\\site-packages\\numpy\\core\\fromnumeric.py\u001B[0m in \u001B[0;36m_wrapfunc\u001B[1;34m(obj, method, *args, **kwds)\u001B[0m\n\u001B[0;32m     56\u001B[0m     \u001B[0mbound\u001B[0m \u001B[1;33m=\u001B[0m \u001B[0mgetattr\u001B[0m\u001B[1;33m(\u001B[0m\u001B[0mobj\u001B[0m\u001B[1;33m,\u001B[0m \u001B[0mmethod\u001B[0m\u001B[1;33m,\u001B[0m \u001B[1;32mNone\u001B[0m\u001B[1;33m)\u001B[0m\u001B[1;33m\u001B[0m\u001B[1;33m\u001B[0m\u001B[0m\n\u001B[0;32m     57\u001B[0m     \u001B[1;32mif\u001B[0m \u001B[0mbound\u001B[0m \u001B[1;32mis\u001B[0m \u001B[1;32mNone\u001B[0m\u001B[1;33m:\u001B[0m\u001B[1;33m\u001B[0m\u001B[1;33m\u001B[0m\u001B[0m\n\u001B[1;32m---> 58\u001B[1;33m         \u001B[1;32mreturn\u001B[0m \u001B[0m_wrapit\u001B[0m\u001B[1;33m(\u001B[0m\u001B[0mobj\u001B[0m\u001B[1;33m,\u001B[0m \u001B[0mmethod\u001B[0m\u001B[1;33m,\u001B[0m \u001B[1;33m*\u001B[0m\u001B[0margs\u001B[0m\u001B[1;33m,\u001B[0m \u001B[1;33m**\u001B[0m\u001B[0mkwds\u001B[0m\u001B[1;33m)\u001B[0m\u001B[1;33m\u001B[0m\u001B[1;33m\u001B[0m\u001B[0m\n\u001B[0m\u001B[0;32m     59\u001B[0m \u001B[1;33m\u001B[0m\u001B[0m\n\u001B[0;32m     60\u001B[0m     \u001B[1;32mtry\u001B[0m\u001B[1;33m:\u001B[0m\u001B[1;33m\u001B[0m\u001B[1;33m\u001B[0m\u001B[0m\n",
      "\u001B[1;32mc:\\users\\santi\\documents\\github\\groove2groove\\venv\\lib\\site-packages\\numpy\\core\\fromnumeric.py\u001B[0m in \u001B[0;36m_wrapit\u001B[1;34m(obj, method, *args, **kwds)\u001B[0m\n\u001B[0;32m     45\u001B[0m     \u001B[1;32mexcept\u001B[0m \u001B[0mAttributeError\u001B[0m\u001B[1;33m:\u001B[0m\u001B[1;33m\u001B[0m\u001B[1;33m\u001B[0m\u001B[0m\n\u001B[0;32m     46\u001B[0m         \u001B[0mwrap\u001B[0m \u001B[1;33m=\u001B[0m \u001B[1;32mNone\u001B[0m\u001B[1;33m\u001B[0m\u001B[1;33m\u001B[0m\u001B[0m\n\u001B[1;32m---> 47\u001B[1;33m     \u001B[0mresult\u001B[0m \u001B[1;33m=\u001B[0m \u001B[0mgetattr\u001B[0m\u001B[1;33m(\u001B[0m\u001B[0masarray\u001B[0m\u001B[1;33m(\u001B[0m\u001B[0mobj\u001B[0m\u001B[1;33m)\u001B[0m\u001B[1;33m,\u001B[0m \u001B[0mmethod\u001B[0m\u001B[1;33m)\u001B[0m\u001B[1;33m(\u001B[0m\u001B[1;33m*\u001B[0m\u001B[0margs\u001B[0m\u001B[1;33m,\u001B[0m \u001B[1;33m**\u001B[0m\u001B[0mkwds\u001B[0m\u001B[1;33m)\u001B[0m\u001B[1;33m\u001B[0m\u001B[1;33m\u001B[0m\u001B[0m\n\u001B[0m\u001B[0;32m     48\u001B[0m     \u001B[1;32mif\u001B[0m \u001B[0mwrap\u001B[0m\u001B[1;33m:\u001B[0m\u001B[1;33m\u001B[0m\u001B[1;33m\u001B[0m\u001B[0m\n\u001B[0;32m     49\u001B[0m         \u001B[1;32mif\u001B[0m \u001B[1;32mnot\u001B[0m \u001B[0misinstance\u001B[0m\u001B[1;33m(\u001B[0m\u001B[0mresult\u001B[0m\u001B[1;33m,\u001B[0m \u001B[0mmu\u001B[0m\u001B[1;33m.\u001B[0m\u001B[0mndarray\u001B[0m\u001B[1;33m)\u001B[0m\u001B[1;33m:\u001B[0m\u001B[1;33m\u001B[0m\u001B[1;33m\u001B[0m\u001B[0m\n",
      "\u001B[1;31mKeyboardInterrupt\u001B[0m: "
     ]
    }
   ],
   "execution_count": 17
  },
  {
   "metadata": {},
   "cell_type": "code",
   "source": "",
   "outputs": [],
   "execution_count": null
  }
 ]
}
